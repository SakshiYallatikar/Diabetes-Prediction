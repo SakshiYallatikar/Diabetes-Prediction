{
 "cells": [
  {
   "cell_type": "markdown",
   "metadata": {
    "id": "LnPbntVRnfvV"
   },
   "source": [
    "Importing the Dependencies"
   ]
  },
  {
   "cell_type": "code",
   "execution_count": null,
   "metadata": {
    "id": "-71UtHzNVWjB"
   },
   "outputs": [],
   "source": [
    "import numpy as np\n",
    "import pandas as pd\n",
    "from sklearn.preprocessing import StandardScaler\n",
    "from sklearn.model_selection import train_test_split\n",
    "from sklearn import svm\n",
    "from sklearn.metrics import accuracy_score"
   ]
  },
  {
   "cell_type": "markdown",
   "metadata": {
    "id": "bmfOfG8joBBy"
   },
   "source": [
    "Data Collection and Analysis\n",
    "\n",
    "PIMA Diabetes Dataset"
   ]
  },
  {
   "cell_type": "code",
   "execution_count": null,
   "metadata": {
    "colab": {
     "base_uri": "https://localhost:8080/",
     "height": 341
    },
    "id": "Xpw6Mj_pn_TL",
    "outputId": "99eb0f64-101b-4632-99ce-7b25be8adda6"
   },
   "outputs": [],
   "source": [
    "# loading the diabetes dataset to a pandas DataFrame\n",
    "diabetes_dataset = pd.read_csv('diabetes.csv') "
   ]
  },
  {
   "cell_type": "code",
   "execution_count": null,
   "metadata": {
    "id": "-tjO09ncovoh"
   },
   "outputs": [],
   "source": [
    "# printing the first 5 rows of the dataset\n",
    "diabetes_dataset.head()"
   ]
  },
  {
   "cell_type": "code",
   "execution_count": null,
   "metadata": {
    "id": "lynParo6pEMB"
   },
   "outputs": [],
   "source": [
    "# number of rows and Columns in this dataset\n",
    "diabetes_dataset.shape"
   ]
  },
  {
   "cell_type": "markdown",
   "metadata": {
    "id": "DCUoFyQTIu8h"
   },
   "source": [
    "# New Section"
   ]
  },
  {
   "cell_type": "code",
   "execution_count": null,
   "metadata": {
    "id": "fgSkRyeNJIqL"
   },
   "outputs": [],
   "source": []
  },
  {
   "cell_type": "code",
   "execution_count": null,
   "metadata": {
    "id": "3NDJOlrEpmoL"
   },
   "outputs": [],
   "source": [
    "# getting the statistical measures of the data\n",
    "diabetes_dataset.describe()"
   ]
  },
  {
   "cell_type": "code",
   "execution_count": null,
   "metadata": {
    "id": "LrpHzaGpp5dQ"
   },
   "outputs": [],
   "source": [
    "diabetes_dataset['Outcome'].value_counts()"
   ]
  },
  {
   "cell_type": "markdown",
   "metadata": {
    "id": "cB1qRaNcqeh5"
   },
   "source": [
    "0 --> Non-Diabetic\n",
    "\n",
    "1 --> Diabetic"
   ]
  },
  {
   "cell_type": "code",
   "execution_count": null,
   "metadata": {
    "id": "I6MWR0k_qSCK"
   },
   "outputs": [],
   "source": [
    "diabetes_dataset.groupby('Outcome').mean()"
   ]
  },
  {
   "cell_type": "code",
   "execution_count": null,
   "metadata": {
    "id": "RoDW7l9mqqHZ"
   },
   "outputs": [],
   "source": [
    "# separating the data and labels\n",
    "X = diabetes_dataset.drop(columns = 'Outcome', axis=1)\n",
    "Y = diabetes_dataset['Outcome']"
   ]
  },
  {
   "cell_type": "code",
   "execution_count": null,
   "metadata": {
    "id": "3eiRW9M9raMm"
   },
   "outputs": [],
   "source": [
    "print(X)"
   ]
  },
  {
   "cell_type": "code",
   "execution_count": null,
   "metadata": {
    "id": "AoxgTJAMrcCl"
   },
   "outputs": [],
   "source": [
    "print(Y)"
   ]
  },
  {
   "cell_type": "markdown",
   "metadata": {
    "id": "umAbo_kqrlzI"
   },
   "source": [
    "Data Standardization"
   ]
  },
  {
   "cell_type": "code",
   "execution_count": null,
   "metadata": {
    "id": "njfM5X60rgnc"
   },
   "outputs": [],
   "source": [
    "scaler = StandardScaler()"
   ]
  },
  {
   "cell_type": "code",
   "execution_count": null,
   "metadata": {
    "id": "g0ai5ARbr53p"
   },
   "outputs": [],
   "source": [
    "scaler.fit(X)"
   ]
  },
  {
   "cell_type": "code",
   "execution_count": null,
   "metadata": {
    "id": "FHxNwPuZr-kD"
   },
   "outputs": [],
   "source": [
    "standardized_data = scaler.transform(X)"
   ]
  },
  {
   "cell_type": "code",
   "execution_count": null,
   "metadata": {
    "id": "fjMwZ5x6sPUJ"
   },
   "outputs": [],
   "source": [
    "print(standardized_data)"
   ]
  },
  {
   "cell_type": "code",
   "execution_count": null,
   "metadata": {
    "id": "ZxWSl4SGsRjE"
   },
   "outputs": [],
   "source": [
    "X = standardized_data\n",
    "Y = diabetes_dataset['Outcome']"
   ]
  },
  {
   "cell_type": "code",
   "execution_count": null,
   "metadata": {
    "id": "lhJF_7QjsjmP"
   },
   "outputs": [],
   "source": [
    "print(X)\n",
    "print(Y)"
   ]
  },
  {
   "cell_type": "markdown",
   "metadata": {
    "id": "gHciEFkxsoQP"
   },
   "source": [
    "Train Test Split"
   ]
  },
  {
   "cell_type": "code",
   "execution_count": null,
   "metadata": {
    "id": "AEfKGj_yslvD"
   },
   "outputs": [],
   "source": [
    "X_train, X_test, Y_train, Y_test = train_test_split(X,Y, test_size = 0.2, stratify=Y, random_state=2)"
   ]
  },
  {
   "cell_type": "code",
   "execution_count": null,
   "metadata": {
    "id": "DR05T-o0t3FQ"
   },
   "outputs": [],
   "source": [
    "print(X.shape, X_train.shape, X_test.shape)"
   ]
  },
  {
   "cell_type": "markdown",
   "metadata": {
    "id": "ElJ3tkOtuC_n"
   },
   "source": [
    "Training the Model"
   ]
  },
  {
   "cell_type": "code",
   "execution_count": null,
   "metadata": {
    "id": "5szLWHlNt9xc"
   },
   "outputs": [],
   "source": [
    "classifier = svm.SVC(kernel='rbf') "
   ]
  },
  {
   "cell_type": "code",
   "execution_count": null,
   "metadata": {
    "colab": {
     "base_uri": "https://localhost:8080/"
    },
    "id": "ncJWY_7suPAb",
    "outputId": "f37ccc4b-395d-4c32-f610-05d4273d433c"
   },
   "outputs": [],
   "source": [
    "#training the support vector Machine Classifier\n",
    "classifier.fit(X_train, Y_train)"
   ]
  },
  {
   "cell_type": "markdown",
   "metadata": {
    "id": "UV4-CAfquiyP"
   },
   "source": [
    "Model Evaluation"
   ]
  },
  {
   "cell_type": "markdown",
   "metadata": {
    "id": "yhAjGPJWunXa"
   },
   "source": [
    "Accuracy Score"
   ]
  },
  {
   "cell_type": "code",
   "execution_count": null,
   "metadata": {
    "id": "fJLEPQK7ueXp"
   },
   "outputs": [],
   "source": [
    "# accuracy score on the training data\n",
    "X_train_prediction = classifier.predict(X_train)\n",
    "training_data_accuracy = accuracy_score(X_train_prediction, Y_train)"
   ]
  },
  {
   "cell_type": "code",
   "execution_count": null,
   "metadata": {
    "colab": {
     "base_uri": "https://localhost:8080/"
    },
    "id": "mmJ22qhVvNwj",
    "outputId": "5195308a-3356-4333-841c-55dc07647c09"
   },
   "outputs": [],
   "source": [
    "print('Accuracy score of the training data : ', training_data_accuracy)"
   ]
  },
  {
   "cell_type": "code",
   "execution_count": null,
   "metadata": {
    "id": "G2CICFMEvcCl"
   },
   "outputs": [],
   "source": [
    "# accuracy score on the test data\n",
    "X_test_prediction = classifier.predict(X_test)\n",
    "test_data_accuracy = accuracy_score(X_test_prediction, Y_test)"
   ]
  },
  {
   "cell_type": "markdown",
   "metadata": {
    "id": "gq8ZX1xpwPF5"
   },
   "source": [
    "Making a Predictive System"
   ]
  },
  {
   "cell_type": "code",
   "execution_count": null,
   "metadata": {
    "colab": {
     "base_uri": "https://localhost:8080/"
    },
    "id": "7D6O84DwJ6uw",
    "outputId": "40700121-5490-446f-cf02-c32c51f6498a"
   },
   "outputs": [],
   "source": [
    "Pregnancies=input(\"Enter Pregnancies value \")\n",
    "glucose=input(\"Enter Glucose value \")\n",
    "BloodPressure=input(\"Enter BloodPressure value \")\n",
    "SkinThickness=input(\"Enter SkinThickness value \")\n",
    "Insulin=input(\"Enter Insulin value \")\n",
    "BMI=input(\"Enter BMI value \")\n",
    "DiabetesPedigreeFunction=input(\"Enter DiabetesPedigreeFunction value \")\n",
    "Age=input(\"Enter Age \")\n",
    "print(\"\")\n",
    "\n",
    "input_data = (Pregnancies,glucose,BloodPressure,SkinThickness,Insulin,BMI,DiabetesPedigreeFunction,Age)\n",
    "\n",
    "# changing the input_data to numpy array\n",
    "input_data_as_numpy_array = np.asarray(input_data)\n",
    "\n",
    "# reshape the array as we are predicting for one instance\n",
    "input_data_reshaped = input_data_as_numpy_array.reshape(1,-1)\n",
    "\n",
    "# standardize the input data\n",
    "std_data = scaler.transform(input_data_reshaped)\n",
    "print(std_data)\n",
    "print(\"\")\n",
    "prediction = classifier.predict(std_data)\n",
    "print(prediction)\n",
    "print(\"\")\n",
    "print('Accuracy score of the test data : ', test_data_accuracy)\n",
    "print(\"\")\n",
    "if (prediction[0] == 0):\n",
    "  print('The person is not diabetic')\n",
    "else:\n",
    "  print('The person is diabetic')"
   ]
  },
  {
   "cell_type": "code",
   "execution_count": null,
   "metadata": {
    "id": "TM_xI4W8MLiJ"
   },
   "outputs": [],
   "source": [
    "# frontend\n",
    "\n",
    "# frontend\n",
    "from tkinter import *\n",
    "import numpy as np\n",
    "\n",
    "root = Tk()\n",
    "\n",
    "# Input field names serial wise\n",
    "fields = ('Pregnancies', 'Glucose', 'BloodPressure', 'SkinThickness',\n",
    "          'Insulin', 'BMI', 'DiabetesPedigreeFunction', 'Age')\n",
    "\n",
    "# Create form\n",
    "def makeform(root, fields):\n",
    "    entries = {}\n",
    "    for field in fields:\n",
    "        row = Frame(root)\n",
    "        lab = Label(row, width=22, text=field + \": \", anchor='w')\n",
    "        ent = Entry(row)\n",
    "        ent.insert(0, \"0\")\n",
    "        row.pack(side=TOP, fill=X, padx=5, pady=5)\n",
    "        lab.pack(side=LEFT)\n",
    "        ent.pack(side=RIGHT, expand=YES, fill=X)\n",
    "        entries[field] = ent\n",
    "    return entries\n",
    "\n",
    "entries = makeform(root, fields)\n",
    "\n",
    "# Predict on button click\n",
    "def predict():\n",
    "    pregnancies = entries['Pregnancies'].get()\n",
    "    glucose = entries['Glucose'].get()\n",
    "    blood_pressure = entries['BloodPressure'].get()\n",
    "    skin_thickness = entries['SkinThickness'].get()\n",
    "    insulin = entries['Insulin'].get()\n",
    "    bmi = entries['BMI'].get()\n",
    "    diabetes_pedigree_function = entries['DiabetesPedigreeFunction'].get()\n",
    "    age = entries['Age'].get()\n",
    "\n",
    "    input_data = (pregnancies, glucose, blood_pressure, skin_thickness, insulin, bmi, diabetes_pedigree_function, age)\n",
    "    # Convert input data to a numpy array\n",
    "    input_data_as_numpy_array = np.asarray(input_data)\n",
    "    # Reshape the numpy array\n",
    "    input_data_reshaped = input_data_as_numpy_array.reshape(1, -1)\n",
    "    # Standardize the data\n",
    "    std_data = scaler.transform(input_data_reshaped)\n",
    "    prediction = classifier.predict(std_data)\n",
    "    print(prediction)\n",
    "    if prediction[0] == 0:\n",
    "        print(\"The person is not diabetic\")\n",
    "        # Label to show result on tkinter\n",
    "        Label(root, text=\"The person is not diabetic\", fg='green', font=(\"Helvetica\", 20)).pack()\n",
    "    else:\n",
    "        print(\"The person is diabetic\")\n",
    "        # Label to show result on tkinter\n",
    "        Label(root, text=\"The person is diabetic\", fg='red', font=(\"Helvetica\", 20)).pack()\n",
    "\n",
    "\n",
    "# Submit button\n",
    "btn = Button(height=1, text=\"PREDICT\", fg=\"white\", width=25, bg='green', font=(\"Helvetica\", 20), command=predict)\n",
    "btn.pack()\n",
    "root.mainloop()\n"
   ]
  },
  {
   "cell_type": "code",
   "execution_count": null,
   "metadata": {},
   "outputs": [],
   "source": []
  },
  {
   "cell_type": "code",
   "execution_count": null,
   "metadata": {},
   "outputs": [],
   "source": []
  },
  {
   "cell_type": "code",
   "execution_count": null,
   "metadata": {},
   "outputs": [],
   "source": []
  },
  {
   "cell_type": "code",
   "execution_count": null,
   "metadata": {},
   "outputs": [],
   "source": []
  },
  {
   "cell_type": "code",
   "execution_count": null,
   "metadata": {},
   "outputs": [],
   "source": []
  },
  {
   "cell_type": "code",
   "execution_count": null,
   "metadata": {},
   "outputs": [],
   "source": []
  },
  {
   "cell_type": "code",
   "execution_count": null,
   "metadata": {},
   "outputs": [],
   "source": []
  },
  {
   "cell_type": "code",
   "execution_count": null,
   "metadata": {},
   "outputs": [],
   "source": []
  },
  {
   "cell_type": "code",
   "execution_count": null,
   "metadata": {},
   "outputs": [],
   "source": []
  },
  {
   "cell_type": "code",
   "execution_count": null,
   "metadata": {},
   "outputs": [],
   "source": [
    "# frontend\n",
    "from tkinter import *\n",
    "import numpy as np\n",
    "\n",
    "root = Tk()\n",
    "\n",
    "# Input field names serial wise\n",
    "fields = ('Pregnancies', 'Glucose', 'BloodPressure', 'SkinThickness',\n",
    "          'Insulin', 'BMI', 'DiabetesPedigreeFunction', 'Age')\n",
    "\n",
    "# Create form\n",
    "def makeform(root, fields):\n",
    "    entries = {}\n",
    "    for field in fields:\n",
    "        row = Frame(root)\n",
    "        lab = Label(row, width=22, text=field + \": \", anchor='w')\n",
    "        ent = Entry(row)\n",
    "        ent.insert(0, \"0\")\n",
    "        row.pack(side=TOP, fill=X, padx=5, pady=5)\n",
    "        lab.pack(side=LEFT)\n",
    "        ent.pack(side=RIGHT, expand=YES, fill=X)\n",
    "        entries[field] = ent\n",
    "    return entries\n",
    "\n",
    "entries = makeform(root, fields)\n",
    "\n",
    "# Predict on button click\n",
    "def predict():\n",
    "    pregnancies = entries['Pregnancies'].get()\n",
    "    glucose = entries['Glucose'].get()\n",
    "    blood_pressure = entries['BloodPressure'].get()\n",
    "    skin_thickness = entries['SkinThickness'].get()\n",
    "    insulin = entries['Insulin'].get()\n",
    "    bmi = entries['BMI'].get()\n",
    "    diabetes_pedigree_function = entries['DiabetesPedigreeFunction'].get()\n",
    "    age = entries['Age'].get()\n",
    "\n",
    "    input_data = (pregnancies, glucose, blood_pressure, skin_thickness, insulin, bmi, diabetes_pedigree_function, age)\n",
    "    # Convert input data to a numpy array\n",
    "    input_data_as_numpy_array = np.asarray(input_data)\n",
    "    # Reshape the numpy array\n",
    "    input_data_reshaped = input_data_as_numpy_array.reshape(1, -1)\n",
    "    # Standardize the data\n",
    "    std_data = scaler.transform(input_data_reshaped)\n",
    "    prediction = classifier.predict(std_data)\n",
    "    print(prediction)\n",
    "    if prediction[0] == 0:\n",
    "        print(\"The person is not diabetic\")\n",
    "        # Label to show result on tkinter\n",
    "        Label(root, text=\"The person is not diabetic\", fg='green', font=(\"Helvetica\", 20)).pack()\n",
    "    else:\n",
    "        print(\"The person is diabetic\")\n",
    "        # Label to show result on tkinter\n",
    "        Label(root, text=\"The person is diabetic\", fg='red', font=(\"Helvetica\", 20)).pack()\n",
    "\n",
    "\n",
    "# Submit button\n",
    "btn = Button(height=1, text=\"PREDICT\", fg=\"white\", width=25, bg='green', font=(\"Helvetica\", 20), command=predict)\n",
    "btn.pack()\n",
    "root.mainloop()\n"
   ]
  },
  {
   "cell_type": "markdown",
   "metadata": {
    "id": "c8XtsYF5lwmq"
   },
   "source": [
    " "
   ]
  }
 ],
 "metadata": {
  "colab": {
   "provenance": []
  },
  "kernelspec": {
   "display_name": "Python 3 (ipykernel)",
   "language": "python",
   "name": "python3"
  },
  "language_info": {
   "codemirror_mode": {
    "name": "ipython",
    "version": 3
   },
   "file_extension": ".py",
   "mimetype": "text/x-python",
   "name": "python",
   "nbconvert_exporter": "python",
   "pygments_lexer": "ipython3",
   "version": "3.9.13"
  },
  "toc": {
   "base_numbering": 1,
   "nav_menu": {},
   "number_sections": true,
   "sideBar": true,
   "skip_h1_title": false,
   "title_cell": "Table of Contents",
   "title_sidebar": "Contents",
   "toc_cell": false,
   "toc_position": {},
   "toc_section_display": true,
   "toc_window_display": false
  }
 },
 "nbformat": 4,
 "nbformat_minor": 1
}
